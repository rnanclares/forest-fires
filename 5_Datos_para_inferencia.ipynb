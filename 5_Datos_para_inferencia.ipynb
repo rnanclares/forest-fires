{
  "nbformat": 4,
  "nbformat_minor": 0,
  "metadata": {
    "colab": {
      "name": "evapotranspiracion.ipynb",
      "provenance": [],
      "collapsed_sections": []
    },
    "kernelspec": {
      "display_name": "Python 3",
      "name": "python3"
    }
  },
  "cells": [
    {
      "cell_type": "code",
      "metadata": {
        "id": "Twcuoje2D_vZ"
      },
      "source": [
        "#!pip install geetools"
      ],
      "execution_count": null,
      "outputs": []
    },
    {
      "cell_type": "code",
      "metadata": {
        "id": "J9UMekjFht9Y"
      },
      "source": [
        "import math \n",
        "import pprint"
      ],
      "execution_count": null,
      "outputs": []
    },
    {
      "cell_type": "code",
      "metadata": {
        "id": "TtKXF42SECF-",
        "colab": {
          "base_uri": "https://localhost:8080/"
        },
        "outputId": "4608a5e3-5b1e-4107-ca3e-39929fb18e36"
      },
      "source": [
        "import ee\n",
        "# Trigger the authentication flow.\n",
        "ee.Authenticate()\n",
        "\n",
        "# Initialize the library.\n",
        "ee.Initialize()"
      ],
      "execution_count": null,
      "outputs": [
        {
          "output_type": "stream",
          "text": [
            "To authorize access needed by Earth Engine, open the following URL in a web browser and follow the instructions. If the web browser does not start automatically, please manually browse the URL below.\n",
            "\n",
            "    https://accounts.google.com/o/oauth2/auth?client_id=517222506229-vsmmajv00ul0bs7p89v5m89qs8eb9359.apps.googleusercontent.com&scope=https%3A%2F%2Fwww.googleapis.com%2Fauth%2Fearthengine+https%3A%2F%2Fwww.googleapis.com%2Fauth%2Fdevstorage.full_control&redirect_uri=urn%3Aietf%3Awg%3Aoauth%3A2.0%3Aoob&response_type=code&code_challenge=O6cyPySi88GC-frL5TgtBg1K5r4o_SkceyHJa4F0tJE&code_challenge_method=S256\n",
            "\n",
            "The authorization workflow will generate a code, which you should paste in the box below. \n",
            "Enter verification code: 4/1AY0e-g6t0I-CfLD7Fobs2myS2Nt5EQ1NUBx71DIN0SzTzZX3mjfNGsSxY58\n",
            "\n",
            "Successfully saved authorization token.\n"
          ],
          "name": "stdout"
        }
      ]
    },
    {
      "cell_type": "code",
      "metadata": {
        "id": "BBDmV9YQEQlG"
      },
      "source": [
        "iniDate = '2021-04-01'\n",
        "endDate = '2021-04-30'\n"
      ],
      "execution_count": null,
      "outputs": []
    },
    {
      "cell_type": "code",
      "metadata": {
        "id": "P6Mc0yoNFtj-"
      },
      "source": [
        "exportBand_evapo = ee.List([\"PET\", \"ET\"])\n",
        "exportBand_img_smos = ee.List([\"ssm\", \"susm\"])\n",
        "#.filter(ee.Filter.date('2015-01-01', '2017-12-31'))\n",
        "#geometry =  ee.FeatureCollection('users/alexanderquevedo/limite_frankenstein_utm'); \n",
        "geometry = ee.Geometry.Rectangle([-105.70671, 18.91105, -101.45436, 22.75942])\n"
      ],
      "execution_count": null,
      "outputs": []
    },
    {
      "cell_type": "code",
      "metadata": {
        "id": "gEWjVcB49D3H"
      },
      "source": [
        "def getQABits(image, start, end, newName):\n",
        "    #Compute the bits we need to extract.\n",
        "    p = 0\n",
        "    for i in range(start,(end+1)):\n",
        "        p += math.pow(2, i)\n",
        "\n",
        "    # Return a single band image of the extracted QA bits, giving the band\n",
        "    # a new name.\n",
        "    return image.select([0], [newName])\\\n",
        "                  .bitwiseAnd(p)\\\n",
        "                  .rightShift(start)\n",
        "\n",
        "#A function to mask out cloudy pixels.\n",
        "def maskClouds(img):\n",
        "  # Select the QA band.\n",
        "    QA = img.select('DetailedQA')\n",
        "  # Get the MOD_LAND_QA bits\n",
        "    internalCloud = getQABits(QA, 0, 1, 'MOD_LAND_QA')\n",
        "  # Return an image masking out cloudy areas.\n",
        "    return img.mask(internalCloud.eq(0))\n",
        "\n",
        "def maskBadData(image):\n",
        "    invalid = image.select('DetailedQA').bitwiseAnd(0x6).neq(0)\n",
        "    clean = image.mask(invalid.Not())\n",
        "    return(clean)\n",
        "\n",
        "def maskSummaryQA(img):\n",
        "    QA = img.select('SummaryQA').eq(0)\n",
        "    best = img.mask(QA)\n",
        "    return(best)\n",
        "\n",
        "# function to add system time band\n",
        "def addTimeBand(image):\n",
        "    return image.addBands(image.metadata('system:time_start').rename([\"time\"]))\n"
      ],
      "execution_count": null,
      "outputs": []
    },
    {
      "cell_type": "code",
      "metadata": {
        "id": "vb6mT-BEEmyq",
        "colab": {
          "base_uri": "https://localhost:8080/"
        },
        "outputId": "b91cc69d-a24d-4f66-ca0e-33f677712390"
      },
      "source": [
        "#### Terreno\n",
        "\n",
        "dem = ee.Image('USGS/SRTMGL1_003')\n",
        "slope_t = ee.Terrain.slope(dem)\n",
        "#terreno  = dem.addBands(slope_t)\n",
        "#### MODIS \n",
        "img_ndvi = ee.ImageCollection('MODIS/006/MOD13Q1').map(maskSummaryQA).select('NDVI').filterDate(iniDate,endDate).mean()\n",
        "img_evapo = ee.ImageCollection('MODIS/006/MOD16A2').select(exportBand_evapo).filterDate(iniDate,endDate).mean()\n",
        "img_temp = ee.ImageCollection('MODIS/006/MOD11A1').select('LST_Day_1km').filterDate(iniDate,endDate).mean()\n",
        "\n",
        "#### SMOS\n",
        "img_smos =  ee.ImageCollection('NASA_USDA/HSL/soil_moisture').select(exportBand_img_smos).filterDate(iniDate,endDate).mean()\n",
        "\n",
        "### Precipitacion\n",
        "\n",
        "img_precipitacion = ee.ImageCollection('UCSB-CHG/CHIRPS/PENTAD').filterDate(iniDate,endDate).sum()\n",
        "\n",
        "print('Image:', str(img_precipitacion.getInfo())+'\\n')\n",
        "\n",
        "#img_smos = ee.ImageCollection('NASA_USDA/HSL/soil_moisture').filterDate(iniDate,endDate).mean()\n"
      ],
      "execution_count": null,
      "outputs": [
        {
          "output_type": "stream",
          "text": [
            "Image: {'type': 'Image', 'bands': []}\n",
            "\n"
          ],
          "name": "stdout"
        }
      ]
    },
    {
      "cell_type": "code",
      "metadata": {
        "id": "BWpShTm7G2qn"
      },
      "source": [
        "#https://stackoverflow.com/questions/57547601/imagecollection-reduce-functions-producing-single-pixel-image-when-exported-us\n",
        "\n",
        "task_dem = ee.batch.Export.image.toDrive(**{\n",
        "  'image': dem,\n",
        "  'description': 'dem',\n",
        "  'scale': 250,\n",
        "  'crs': 'EPSG:32613',\n",
        "  'folder': 'incendios_2021',\n",
        "  'region': geometry.getInfo()['coordinates']\n",
        "})\n",
        "\n",
        "task_slope = ee.batch.Export.image.toDrive(**{\n",
        "  'image': slope_t,\n",
        "  'description': 'slope',\n",
        "  'scale': 250,\n",
        "  'crs': 'EPSG:32613',\n",
        "  'folder': 'incendios_2021',\n",
        "  'region': geometry.getInfo()['coordinates']\n",
        "})\n",
        "\n",
        "task_nvdi = ee.batch.Export.image.toDrive(**{\n",
        "  'image': img_ndvi,\n",
        "  'description': 'NDVI',\n",
        "  'scale': 250,\n",
        "  'crs': 'EPSG:32613',\n",
        "  'folder': 'incendios_2021',\n",
        "  'region': geometry.getInfo()['coordinates']\n",
        "})\n",
        "\n",
        "task_evapo = ee.batch.Export.image.toDrive(**{\n",
        "  'image': img_evapo,\n",
        "  'description': 'evapotranspiracion',\n",
        "  'scale': 250,\n",
        "  'crs': 'EPSG:32613',\n",
        "  'folder': 'incendios_2021',\n",
        "  'region': geometry.getInfo()['coordinates']\n",
        "})\n",
        "\n",
        "task_temp = ee.batch.Export.image.toDrive(**{\n",
        "  'image': img_temp,\n",
        "  'description': 'temperatura',\n",
        "  'scale': 250,\n",
        "  'crs': 'EPSG:32613',\n",
        "  'folder': 'incendios_2021',\n",
        "  'region': geometry.getInfo()['coordinates']\n",
        "})\n",
        "\n",
        "task_smos = ee.batch.Export.image.toDrive(**{\n",
        "  'image': img_smos,\n",
        "  'description': 'smos',\n",
        "  'scale': 250,\n",
        "  'crs': 'EPSG:32613',\n",
        "  'folder': 'incendios_2021',\n",
        "  'region': geometry.getInfo()['coordinates']\n",
        "})\n",
        "\n",
        "task_prep = ee.batch.Export.image.toDrive(**{\n",
        "  'image': img_precipitacion,\n",
        "  'description': 'precipitacion',\n",
        "  'scale': 250,\n",
        "  'crs': 'EPSG:32613',\n",
        "  'folder': 'incendios_2021',\n",
        "  'region': geometry.getInfo()['coordinates']\n",
        "})"
      ],
      "execution_count": null,
      "outputs": []
    },
    {
      "cell_type": "code",
      "metadata": {
        "id": "fswTMexUO6zY"
      },
      "source": [
        "task_dem.start()\n",
        "task_slope.start()\n",
        "task_nvdi.start()\n",
        "task_evapo.start()\n",
        "task_temp.start()\n",
        "task_smos.start()\n",
        "task_prep.start()"
      ],
      "execution_count": null,
      "outputs": []
    },
    {
      "cell_type": "code",
      "metadata": {
        "id": "ifHN2q59ad1O"
      },
      "source": [
        "#task_dem.start()"
      ],
      "execution_count": null,
      "outputs": []
    },
    {
      "cell_type": "code",
      "metadata": {
        "id": "Y9BSQF99S34W"
      },
      "source": [
        "#task_nvdi.status"
      ],
      "execution_count": null,
      "outputs": []
    }
  ]
}